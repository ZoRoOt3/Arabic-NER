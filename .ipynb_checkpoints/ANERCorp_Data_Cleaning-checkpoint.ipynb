{
 "cells": [
  {
   "cell_type": "code",
   "execution_count": 1,
   "metadata": {
    "collapsed": true
   },
   "outputs": [],
   "source": [
    "from gensim.models import Word2Vec\n",
    "word2vec_model = '/home/yan/eventData/website/wiki_arabic_prebuild/wiki_ar_word2vec.model'\n",
    "prebuilt = Word2Vec.load(word2vec_model)\n",
    "vocab_set = set(prebuilt.vocab.keys())"
   ]
  },
  {
   "cell_type": "code",
   "execution_count": 4,
   "metadata": {
    "collapsed": true
   },
   "outputs": [],
   "source": [
    "trainingpath='/home/yan/eventData/website/aqmar_trainingdata/ANERCorp'"
   ]
  },
  {
   "cell_type": "code",
   "execution_count": 5,
   "metadata": {
    "collapsed": true
   },
   "outputs": [],
   "source": [
    "with open(trainingpath) as f:\n",
    "    content = f.readlines()\n",
    "#content = [x.strip() for x in content] "
   ]
  },
  {
   "cell_type": "code",
   "execution_count": 59,
   "metadata": {},
   "outputs": [
    {
     "data": {
      "text/plain": [
       "150285"
      ]
     },
     "execution_count": 59,
     "metadata": {},
     "output_type": "execute_result"
    }
   ],
   "source": [
    "len(content)"
   ]
  },
  {
   "cell_type": "code",
   "execution_count": 135,
   "metadata": {
    "collapsed": true
   },
   "outputs": [],
   "source": [
    "def changeDataFormat():\n",
    "    dic={}\n",
    "    index=0;\n",
    "    #I-ORG=1,B-ORG=2,I-LOC=3, B-LOC=4,I-PERS=5,B-PERS=6\n",
    "    for i in content:\n",
    "        if index not in dic:\n",
    "            dic[index]={}\n",
    "        if \"sen\" not in dic[index]:\n",
    "            dic[index][\"sen\"]=\"\";\n",
    "            dic[index][\"tag\"]=[];\n",
    "        #print(i)\n",
    "        line=str(i).split(\" \")\n",
    "        #print(line[0:length-1][0])\n",
    "        length=len(line)\n",
    "        dic[index][\"sen\"]=dic[index][\"sen\"]+(line[0:length-1][0])+\" \"\n",
    "        if(line[length-1]==\"O\\n\"):\n",
    "            dic[index][\"tag\"].append(0)\n",
    "        elif (line[length-1]==\"I-ORG\\n\"):\n",
    "            dic[index][\"tag\"].append(1)\n",
    "        elif (line[length-1]==\"B-ORG\\n\"):\n",
    "            dic[index][\"tag\"].append(2)\n",
    "        elif (line[length-1]==\"I-LOC\\n\"):\n",
    "            dic[index][\"tag\"].append(3)\n",
    "        elif (line[length-1]==\"B-LOC\\n\"):\n",
    "            dic[index][\"tag\"].append(4)\n",
    "        elif (line[length-1]==\"I-PERS\\n\"):\n",
    "            dic[index][\"tag\"].append(5)\n",
    "        elif (line[length-1]==\"B-PERS\\n\"):\n",
    "            dic[index][\"tag\"].append(6)    \n",
    "        if(i[0]==\".\"):\n",
    "            index=index+1\n",
    "            #print(\"end of the sentence\")\n",
    "    return dic"
   ]
  },
  {
   "cell_type": "code",
   "execution_count": 136,
   "metadata": {
    "collapsed": true
   },
   "outputs": [],
   "source": [
    "dic=changeDataFormat()"
   ]
  },
  {
   "cell_type": "code",
   "execution_count": 137,
   "metadata": {},
   "outputs": [
    {
     "data": {
      "text/plain": [
       "'وقال أنه يتعين أن يصل عدد السيارات الجديدة في ألمانيا هذا العام إلي حوالي 2.3 مليون سيارة بالمقارنة بـ34.3 مليون سيارة في العام الماضي . '"
      ]
     },
     "execution_count": 137,
     "metadata": {},
     "output_type": "execute_result"
    }
   ],
   "source": [
    "dic[5][\"sen\"]"
   ]
  },
  {
   "cell_type": "code",
   "execution_count": 138,
   "metadata": {},
   "outputs": [
    {
     "data": {
      "text/plain": [
       "[0, 0, 0, 0, 0, 0, 0, 0, 0, 4, 0, 0, 0, 0, 0, 0, 0, 0, 0, 0, 0, 0, 0, 0, 0]"
      ]
     },
     "execution_count": 138,
     "metadata": {},
     "output_type": "execute_result"
    }
   ],
   "source": [
    "dic[5][\"tag\"]"
   ]
  },
  {
   "cell_type": "code",
   "execution_count": null,
   "metadata": {
    "collapsed": true
   },
   "outputs": [],
   "source": []
  }
 ],
 "metadata": {
  "kernelspec": {
   "display_name": "new_vir",
   "language": "python",
   "name": "new_vir"
  },
  "language_info": {
   "codemirror_mode": {
    "name": "ipython",
    "version": 3
   },
   "file_extension": ".py",
   "mimetype": "text/x-python",
   "name": "python",
   "nbconvert_exporter": "python",
   "pygments_lexer": "ipython3",
   "version": "3.5.2"
  }
 },
 "nbformat": 4,
 "nbformat_minor": 2
}
